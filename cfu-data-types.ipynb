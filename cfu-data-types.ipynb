{
 "cells": [
  {
   "cell_type": "markdown",
   "metadata": {},
   "source": [
    "# CFU | Data Types"
   ]
  },
  {
   "cell_type": "markdown",
   "metadata": {},
   "source": [
    "## Working with Data Types"
   ]
  },
  {
   "cell_type": "markdown",
   "metadata": {},
   "source": [
    "Objective: Practice working with different data types and their corresponding operations."
   ]
  },
  {
   "cell_type": "markdown",
   "metadata": {},
   "source": [
    "### Exercise 1: Calculate remaining salary"
   ]
  },
  {
   "cell_type": "markdown",
   "metadata": {},
   "source": [
    "In this exercise, prompt the user to enter their personal information such as name, age, address, salary, and expenses, and then perform some calculations to determine how much money they have left after expenses. \n",
    "\n",
    "Use data type casting to ensure that the age, salary, and expenses are stored as integers or floats, as appropriate, and round the remaining money to one decimal. \n",
    "\n",
    "Use a boolean variable to indicate whether the remaining salary is greater than or equal to 500. \n",
    "\n",
    "Finally, you will use string formatting to print a message to the screen in the following format: \n",
    "\"*name*, who is *age* years old, and lives in *address* has *remaining_salary* dollars left from her salary after expenses. It is *is_salary_good* that she has more than $500 left.\", using the mentioned variables.\n",
    "\n",
    "*Hint:* \n",
    "- *You can use the input() function to ask the user to enter their information. Beware that input() function returns a String.*\n",
    "- *You can round the remaining salary to one decimal using the round() function.*\n",
    "- *Use data type conversion functions. Recommended external resources: [Data type conversion](https://www.geeksforgeeks.org/type-conversion-in-python/)*"
   ]
  },
  {
   "cell_type": "code",
   "execution_count": 163,
   "metadata": {},
   "outputs": [],
   "source": [
    "# Your code here\n",
    "class pinfo:\n",
    "    def __init__(self, name, age=None, address=\"\", salary=\"\", expenses=\"\", remaining=\"\", isgood = False):\n",
    "        self.name = name\n",
    "        self.age = age\n",
    "        self.address=address\n",
    "        self.salary=salary\n",
    "        self.expenses=expenses\n",
    "        self.remaining=remaining\n",
    "        self.isgood = isgood\n",
    "\n",
    "    def get_age(self, age):\n",
    "        self.age = age\n",
    "\n",
    "    def get_address(self, address):\n",
    "        self.address=address\n",
    "\n",
    "    def get_salary(self, salary):\n",
    "        self.salary=salary\n",
    "    \n",
    "    def get_expenses(self, expenses):\n",
    "        self.expenses=expenses\n",
    "\n",
    "    def display_info(self):\n",
    "        print(f\"Name: {self.name}\")\n",
    "        print(f\"Age: {self.age}\")\n",
    "        print(f\"Address: {self.address}\")\n",
    "        print(f\"Salary: {self.salary}\")\n",
    "        print(f\"Expenses: {self.expenses}\")\n",
    "\n",
    "    def is_salary_good(self, salary, expenses):\n",
    "        remaining = round(salary - expenses, 1)\n",
    "        self.remaining = remaining\n",
    "        if remaining >= 500:\n",
    "            self.isgood = True\n",
    "        else:\n",
    "            self.isgood = False\n",
    "    \n",
    "    \n",
    "\n",
    "def create_user():\n",
    "    ## creates an user\n",
    "    user = pinfo(input(\"\\nInsert user name: \"))\n",
    "    \n",
    "    # gets the age of the user, blocks non-integers from input\n",
    "    cage = True\n",
    "    while cage == True:\n",
    "        age = input(\"\\nInser user age: \")\n",
    "        try:\n",
    "            iage=int(age)\n",
    "        except:\n",
    "            print(\"--> Age must be an integer\")\n",
    "        else:\n",
    "            if iage > 0:\n",
    "                user.get_age(iage)\n",
    "                cage = False\n",
    "            else:\n",
    "                print(\"--> Age must be a positive integer\")\n",
    "            \n",
    "    # gets address\n",
    "    user.get_address(input(\"\\nInsert user address: \"))\n",
    "    \n",
    "    # gets user salary\n",
    "    csalary = True\n",
    "    while csalary == True:\n",
    "        salary = input(\"\\nInser user salary: \")\n",
    "        try:\n",
    "            fsalary=float(salary)\n",
    "        except:\n",
    "            print(\"--> Salary must be a numerical value\")\n",
    "        else:\n",
    "            if fsalary > 0:\n",
    "                user.get_salary(fsalary)\n",
    "                csalary = False\n",
    "            else:\n",
    "                print(\"--> Salary must be positive\")\n",
    "\n",
    "    # gets user expenses\n",
    "    cexpense = True\n",
    "    while cexpense == True:\n",
    "        expenses = input(\"\\nInser user expenses: \")\n",
    "        try:\n",
    "            fexpenses=float(expenses)\n",
    "        except:\n",
    "            print(\"--> Expenses must be a numerical value\")\n",
    "        else:\n",
    "            if fexpenses >= 0:\n",
    "                user.get_expenses(fexpenses)\n",
    "                cexpense = False\n",
    "            else:\n",
    "                print(\"--> Expenses must be positive or zero\")\n",
    "\n",
    "    # gets the balance check\n",
    "    user.is_salary_good(user.salary, user.expenses)\n",
    "    \n",
    "    # confirms user was created\n",
    "    print(f\"{user.name}, who is {user.age} years old, and lives in {user.address} has {user.remaining} dollars left from her salary after expenses. It is {user.isgood} that she has more than $500 left.\")\n",
    "\n",
    "\n",
    "## Use a boolean variable to indicate whether the remaining salary is greater than or equal to 500.\n",
    "\n",
    "## Finally, you will use string formatting to print a message to the screen in the following format:\n",
    "## \"name, who is age years old, and lives in address has remaining_salary dollars left from her salary after expenses.\n",
    "## It is is_salary_good that she has more than $500 left.\", using the mentioned variables.    \n",
    "    \n",
    "        \n",
    "        \n",
    "    "
   ]
  },
  {
   "cell_type": "code",
   "execution_count": 165,
   "metadata": {},
   "outputs": [
    {
     "name": "stdin",
     "output_type": "stream",
     "text": [
      "\n",
      "Insert user name:  Lisa\n",
      "\n",
      "Inser user age:  45\n",
      "\n",
      "Insert user address:  ABC\n",
      "\n",
      "Inser user salary:  25000\n",
      "\n",
      "Inser user expenses:  1850\n"
     ]
    },
    {
     "name": "stdout",
     "output_type": "stream",
     "text": [
      "Lisa, who is 45 years old, and lives in ABC has 23150.0 dollars left from her salary after expenses. It is True that she has more than $500 left.\n"
     ]
    }
   ],
   "source": [
    "create_user()\n"
   ]
  },
  {
   "cell_type": "markdown",
   "metadata": {},
   "source": [
    "\n",
    "### Exercise 2: Text Cleaning and Concatenation"
   ]
  },
  {
   "cell_type": "markdown",
   "metadata": {},
   "source": [
    "Write code that takes text from the variable `poem`, removes the punctuation and leaves everything in lowercase. \n",
    "\n",
    "Concatenate the resulting string with the string \"python is awesome!\" and store the result in a new variable. \n",
    "\n",
    "Print the length of the new string.\n",
    "\n",
    "Split the string into a list of strings using the space delimiter, save it in a variable `poem_list` and print it. \n",
    "\n",
    "*Hint:*\n",
    "\n",
    "- *You can use the len() function to get the length of a string.*\n",
    "- *Search string methods to accomplish the other steps. Recommended External Resources: [Python String Methods](https://www.w3schools.com/python/python_ref_string.asp)*\n",
    "- *Use method chaining to simplify your code. If you are not sure what it is, read this tutorial before: https://pyneng.readthedocs.io/en/latest/book/04_data_structures/method_chaining.html*\n"
   ]
  },
  {
   "cell_type": "code",
   "execution_count": 445,
   "metadata": {},
   "outputs": [],
   "source": [
    "poem = \"\"\"Some say the world will end in fire,\n",
    "Some say in ice.\n",
    "From what I’ve tasted of desire\n",
    "I hold with those who favor fire.\n",
    "But if it had to perish twice,\n",
    "I think I know enough of hate\n",
    "To say that for destruction ice\n",
    "Is also great\n",
    "And would suffice.\"\"\""
   ]
  },
  {
   "cell_type": "code",
   "execution_count": 449,
   "metadata": {},
   "outputs": [
    {
     "name": "stdout",
     "output_type": "stream",
     "text": [
      "258\n",
      "54\n"
     ]
    }
   ],
   "source": [
    "# converts poemlist into a list\n",
    "poemlist = poem.lower().split()\n",
    "\n",
    "# remakes poemlist into a string with all the fixes\n",
    "remadelist=[]\n",
    "for word in poemlist:\n",
    "    char = [i for i in word]\n",
    "    for j in char:\n",
    "        if j.isalpha() == False:\n",
    "            char.remove(j)\n",
    "    word2 = \"\".join(char)\n",
    "    remadelist.append(word2)\n",
    "\n",
    "poem2=\" \".join(remadelist) + \" \" + \"python is awesome!\"\n",
    "\n",
    "print(len(poem2))\n",
    "\n",
    "print(len(poem2.split()))"
   ]
  },
  {
   "cell_type": "code",
   "execution_count": null,
   "metadata": {},
   "outputs": [],
   "source": []
  }
 ],
 "metadata": {
  "kernelspec": {
   "display_name": "Python 3 (ipykernel)",
   "language": "python",
   "name": "python3"
  },
  "language_info": {
   "codemirror_mode": {
    "name": "ipython",
    "version": 3
   },
   "file_extension": ".py",
   "mimetype": "text/x-python",
   "name": "python",
   "nbconvert_exporter": "python",
   "pygments_lexer": "ipython3",
   "version": "3.12.4"
  }
 },
 "nbformat": 4,
 "nbformat_minor": 4
}
